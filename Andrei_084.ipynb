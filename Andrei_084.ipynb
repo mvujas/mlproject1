{
 "cells": [
  {
   "cell_type": "code",
   "execution_count": 2,
   "metadata": {
    "id": "hFPCqsatcmRU"
   },
   "outputs": [],
   "source": [
    "import numpy as np\n",
    "\n",
    "import data_io\n",
    "import data_preprocessing\n",
    "from implementations import *\n",
    "import validation\n",
    "import attribute_selection\n",
    "import evaluators\n",
    "import metrics\n",
    "\n",
    "# Autoreload modules\n",
    "%load_ext autoreload\n",
    "%autoreload 2"
   ]
  },
  {
   "cell_type": "code",
   "execution_count": 14,
   "metadata": {},
   "outputs": [],
   "source": [
    "import pandas as pd"
   ]
  },
  {
   "cell_type": "code",
   "execution_count": 3,
   "metadata": {},
   "outputs": [],
   "source": [
    "import matplotlib.pyplot as plt\n",
    "%matplotlib inline\n",
    "\n",
    "import seaborn as sns\n",
    "sns.set(style='whitegrid')"
   ]
  },
  {
   "cell_type": "code",
   "execution_count": 4,
   "metadata": {
    "colab": {
     "base_uri": "https://localhost:8080/",
     "height": 54
    },
    "id": "rRl8fmwZdvp4",
    "outputId": "805967f6-fdf6-45bd-ccf4-09decbc89d18"
   },
   "outputs": [],
   "source": [
    "\n",
    "DATA_FILE_PREFIX = './data/'"
   ]
  },
  {
   "cell_type": "code",
   "execution_count": 5,
   "metadata": {
    "id": "g7x1A5HTd1Md"
   },
   "outputs": [],
   "source": [
    "y_train, x_train, _, cols = data_io.load_csv_data(f'{DATA_FILE_PREFIX}train.csv')\n",
    "_, x_test, ids_test, cols_train = data_io.load_csv_data(f'{DATA_FILE_PREFIX}test.csv')"
   ]
  },
  {
   "cell_type": "code",
   "execution_count": 6,
   "metadata": {
    "id": "nQzHQa0GdxmT"
   },
   "outputs": [],
   "source": [
    "col_to_index_mapping = {col_name: index - 2 for index, col_name in enumerate(cols) if index >= 2}\n",
    "y_train = (y_train + 1) // 2"
   ]
  },
  {
   "cell_type": "code",
   "execution_count": 7,
   "metadata": {
    "id": "oNVAcSk0pLNC"
   },
   "outputs": [],
   "source": [
    "import operator\n",
    "\n",
    "def tune_lambda(y, x, grid, seed=42, history=True):\n",
    "    w_init = np.zeros(x.shape[1])\n",
    "    res = {}\n",
    "    for lambda_ in grid:\n",
    "        np.random.seed(seed)\n",
    "        train_model = lambda y_, x_: make_predictor(reg_logistic_regression_sgd(\n",
    "            y_, x_, lambda_, w_init, 5, 1000, 0.5,\n",
    "        )[0])\n",
    "        res[lambda_] = validation.cross_validation(y, x, train_model, 5)[0].mean()\n",
    "        if history:\n",
    "          print(f\"{lambda_}: {res[lambda_]:.4f}\")\n",
    "    return max(res.items(), key=operator.itemgetter(1))"
   ]
  },
  {
   "cell_type": "code",
   "execution_count": 8,
   "metadata": {
    "id": "K8X9uAUXfLo9"
   },
   "outputs": [],
   "source": [
    "def make_predictor(w):\n",
    "  def foo(features):\n",
    "    return (features @ w > 0).astype(int)\n",
    "  return foo"
   ]
  },
  {
   "cell_type": "markdown",
   "metadata": {},
   "source": [
    "----"
   ]
  },
  {
   "cell_type": "code",
   "execution_count": 10,
   "metadata": {},
   "outputs": [],
   "source": [
    "def build_pairwise(x, column_idx):\n",
    "    \"\"\"build pairwise multiplyed features x\"\"\"\n",
    "    if x.ndim == 1:\n",
    "        x = x[:, np.newaxis]\n",
    "        \n",
    "    columns = np.copy(x[:, column_idx])\n",
    "    pairwise = []\n",
    "    for i in range(columns.shape[1]):\n",
    "        for j in range(i + 1, columns.shape[1]):\n",
    "            pairwise.append(columns[:, i] * columns[:, j])\n",
    "    pairwise = np.array(pairwise).T\n",
    "    return pairwise\n",
    "\n",
    "def build_pairwise_xy(x, y):\n",
    "    \"\"\"build pairwise multiplyed features x\"\"\"\n",
    "    pairwise = []\n",
    "    for i in range(x.shape[1]):\n",
    "        for j in range(y.shape[1]):\n",
    "            pairwise.append(x[:, i] * y[:, j])\n",
    "    pairwise = np.array(pairwise).T\n",
    "    return pairwise"
   ]
  },
  {
   "cell_type": "code",
   "execution_count": 11,
   "metadata": {},
   "outputs": [],
   "source": [
    "def standardize(x):\n",
    "    mean = np.mean(x, axis=0)\n",
    "    std_dev = np.std(x, axis=0, ddof=1)\n",
    "    std_dev[std_dev < 1e-6] = 1\n",
    "    return (x - mean) / std_dev\n"
   ]
  },
  {
   "cell_type": "code",
   "execution_count": 318,
   "metadata": {},
   "outputs": [],
   "source": [
    "def expit(x):\n",
    "    exp_x = np.exp(x)\n",
    "    return np.where(x >= 0,\n",
    "                    1 / (1 + np.exp(-x)),\n",
    "                    exp_x / (1 + exp_x))\n",
    "\n",
    "\n",
    "def logistic_regression_grad(y, tx, weights, ratio=1.):\n",
    "    p = expit(tx @ weights)\n",
    "    g = (p - y)[:, None] * tx\n",
    "    obj_w = ratio * y + (1 - y) * 1.\n",
    "    return (g * obj_w[:, None]).mean(0)\n",
    "\n",
    "\n",
    "def softplus(x):\n",
    "    return np.where(x >= 30, x, np.log1p(np.exp(x)))\n",
    "\n",
    "\n",
    "def logistic_regression_loss(y, tx, weights):\n",
    "    t = 2 * y - 1\n",
    "    loss = softplus(-t * (tx @ weights))\n",
    "    return loss.mean()\n",
    "\n",
    "\n",
    "def reg_logistic_regression_sgd(y, tx, lambda_, initial_w, n_epochs, batch_size, gamma, history=False, ratio=1.):\n",
    "    weights = initial_w\n",
    "    loss_h = [logistic_regression_loss(y, tx, weights)]\n",
    "\n",
    "    for iteration in range(n_epochs):\n",
    "        # Stochastic Gradient Descent step\n",
    "        batches = batch_iter(y, tx, batch_size=batch_size, num_batches=len(y) // batch_size)\n",
    "        for y_batch, tx_batch in batches:\n",
    "            # calculate gradient\n",
    "            g = logistic_regression_grad(y_batch, tx_batch, weights, ratio)\n",
    "            # add L2 regularizer gradient (lambda_ * w^Tw)\n",
    "            g += 2 * lambda_ * weights\n",
    "            # make a GD step\n",
    "            weights -= gamma * g\n",
    "\n",
    "        loss_h.append(logistic_regression_loss(y, tx, weights))\n",
    "\n",
    "    if not (1e-3 > 1 - loss_h[-1] / loss_h[-2] > -1e-3):\n",
    "        warnings.warn(\"Logistic regression didn't converge!\")\n",
    "\n",
    "    return (weights, np.array(loss_h) if history else loss_h[-1])\n"
   ]
  },
  {
   "cell_type": "code",
   "execution_count": 566,
   "metadata": {},
   "outputs": [],
   "source": [
    "x = np.copy(x_train)\n",
    "\n",
    "\n",
    "CLIP = {}\n",
    "NORMALIZATION = {}\n",
    "\n",
    "def data_preproc(x, train=True):\n",
    "    tx = np.copy(x) # Recommended to copy x so it doesn't change\n",
    "    tx[tx == -999.] = np.nan\n",
    "    features = {}\n",
    "\n",
    "    # onehot for categorical and drop one level\n",
    "    tx_categorical = (tx[:, 22][:, None] == np.arange(4)).astype(float)[:, :-1]\n",
    "    for i in range(3):\n",
    "        features[f'ohe_{i}'] = tx_categorical[:, i]\n",
    "\n",
    "    # drop categorical feature\n",
    "    tx = np.concatenate([tx[:, :22], tx[:, 23:]], 1)\n",
    "\n",
    "    for i in range(tx.shape[1]):\n",
    "        features[f'real_{i}'] = tx[:, i]\n",
    "\n",
    "    df = pd.DataFrame(features)\n",
    "\n",
    "    # drop features w/ lots of nans\n",
    "#     df = df.drop(df.columns[df.isna().mean() > 0.7], axis=1)\n",
    "\n",
    "    real_clmns = [c for c in df.columns if 'ohe' not in c]\n",
    "    cat_clmns = [c for c in df.columns if 'ohe' in c]\n",
    "\n",
    "    # %breakpoint\n",
    "    # standartize data\n",
    "    for c in real_clmns:\n",
    "        if train:\n",
    "            v = df[c].copy()\n",
    "            v = v[~v.isna()]\n",
    "            min_, max_ = v.min(), v.max()\n",
    "            if v.max() / v.quantile(0.9) > 1.7:\n",
    "                max_ = v.quantile(0.9)\n",
    "            if v.min() / v.quantile(0.1) < 0.5 or v.min() / v.quantile(0.1) > 2:\n",
    "                min_ = v.quantile(0.1)\n",
    "            CLIP[c] = (min_, max_)\n",
    "        df[c] = df[c].clip(CLIP[c][0], CLIP[c][1])\n",
    "\n",
    "\n",
    "    # normalize features\n",
    "    df[real_clmns] = standardize(df[real_clmns])\n",
    "\n",
    "    # create is_nan features\n",
    "    isnan_columns = df.columns[df.isna().any()]\n",
    "    df = df.join(df[isnan_columns].isna().astype(float), rsuffix='_isna')\n",
    "    # set missing values to 0\n",
    "    df = df.fillna(0)\n",
    "\n",
    "    poly = np.cos(df[real_clmns])\n",
    "    df = df.join(poly, rsuffix='_cos')\n",
    "\n",
    "#     poly = np.sin(df[real_clmns])\n",
    "#     df = df.join(poly, rsuffix='_sin')\n",
    "\n",
    "    real_clmns += (poly.columns + '_cos').tolist()\n",
    "\n",
    "    # # add squares and pairwise mult\n",
    "    tx_pairs_real = build_pairwise(df[real_clmns].to_numpy(), np.arange(len(real_clmns)))\n",
    "    tx_pairs_real = standardize(tx_pairs_real)\n",
    "    df = df.join(pd.DataFrame(tx_pairs_real), rsuffix='_pairs_real')\n",
    "\n",
    "    # pairwise mult btw real and OHE\n",
    "    tx_pairs_real_cat = build_pairwise_xy(df[real_clmns].to_numpy(), df[cat_clmns].to_numpy())\n",
    "    tx_pairs_real_cat = standardize(tx_pairs_real_cat)\n",
    "    df = df.join(pd.DataFrame(tx_pairs_real_cat), rsuffix='_pairs_real_cat')\n",
    "\n",
    "\n",
    "\n",
    "    return np.concatenate([\n",
    "        df.astype(float).to_numpy(),\n",
    "        np.ones((df.shape[0], 1))\n",
    "    ], 1)"
   ]
  },
  {
   "cell_type": "code",
   "execution_count": 485,
   "metadata": {
    "scrolled": false
   },
   "outputs": [
    {
     "data": {
      "image/png": "[encoded data removed]",
      "text/plain": [
       "<Figure size 2160x936 with 32 Axes>"
      ]
     },
     "metadata": {},
     "output_type": "display_data"
    }
   ],
   "source": [
    "# f, axs = plt.subplots(4, 8, figsize=(30, 13))\n",
    "# for c, ax in zip(real_clmns, axs.flatten()):\n",
    "#     sns.boxplot(x=df[c], ax=ax)"
   ]
  },
  {
   "cell_type": "code",
   "execution_count": 486,
   "metadata": {},
   "outputs": [
    {
     "data": {
      "text/plain": [
       "Text(0.5, 0, '% missing values for a data point')"
      ]
     },
     "execution_count": 486,
     "metadata": {},
     "output_type": "execute_result"
    },
    {
     "data": {
      "image/png": "[encoded data removed]",
      "text/plain": [
       "<Figure size 432x288 with 1 Axes>"
      ]
     },
     "metadata": {},
     "output_type": "display_data"
    }
   ],
   "source": [
    "sns.histplot((x_train == -999).mean(1), stat='probability')\n",
    "plt.xlabel('% missing values for a data point')"
   ]
  },
  {
   "cell_type": "markdown",
   "metadata": {},
   "source": [
    "### Train model"
   ]
  },
  {
   "cell_type": "markdown",
   "metadata": {},
   "source": [
    "## Ensemble "
   ]
  },
  {
   "cell_type": "code",
   "execution_count": 567,
   "metadata": {
    "scrolled": true
   },
   "outputs": [
    {
     "name": "stderr",
     "output_type": "stream",
     "text": [
      "<ipython-input-566-8198b563574c>:40: RuntimeWarning: invalid value encountered in double_scalars\n",
      "  if v.min() / v.quantile(0.1) < 0.5 or v.min() / v.quantile(0.1) > 2:\n"
     ]
    }
   ],
   "source": [
    "x_train_al = data_preproc(x_train)"
   ]
  },
  {
   "cell_type": "code",
   "execution_count": 568,
   "metadata": {},
   "outputs": [
    {
     "data": {
      "text/plain": [
       "(250000, 1900)"
      ]
     },
     "execution_count": 568,
     "metadata": {},
     "output_type": "execute_result"
    }
   ],
   "source": [
    "x_train_all.shape"
   ]
  },
  {
   "cell_type": "code",
   "execution_count": null,
   "metadata": {},
   "outputs": [],
   "source": [
    "def make_predictor_proba(w):\n",
    "    def foo(features):\n",
    "        return expit(features @ w)\n",
    "    return foo\n",
    "\n",
    "def ensemble_model(models):\n",
    "    def foo(x):\n",
    "        return (np.stack([m(x) for m in models]).mean(0) > 0.5).astype(int)\n",
    "    return foo\n",
    "\n",
    "np.random.seed(42)\n",
    "\n",
    "models = []\n",
    "for _ in range(5):\n",
    "    idxs = np.random.permutation(np.arange(250000))[:200000]\n",
    "    models.append(make_predictor_proba(reg_logistic_regression_sgd(\n",
    "            y_train[idxs], x_train_all[idxs], 1e-11, np.zeros(x_train_all.shape[1]), 100, 2000, 0.1,\n",
    "        )[0]))\n",
    "ens_model = ensemble_model(models)\n",
    "\n",
    "(ens_model(x_train_all) == y_train).mean(), [np.mean((m(x_train_all) > 0.5) == y_train) for m in models]"
   ]
  },
  {
   "cell_type": "code",
   "execution_count": 519,
   "metadata": {},
   "outputs": [],
   "source": [
    "def mycreate_submission(predict, x_test, ids, train_model, file_name):\n",
    "    full_file_name = f'{file_name}.csv'\n",
    "    labels = predict(x_test)\n",
    "    labels = labels * 2 - 1\n",
    "    data_io.create_csv_submission(ids, labels, full_file_name)"
   ]
  },
  {
   "cell_type": "code",
   "execution_count": null,
   "metadata": {},
   "outputs": [],
   "source": [
    "tx_test = data_preproc(x_test, train=False)\n",
    "tx_test.shape"
   ]
  },
  {
   "cell_type": "code",
   "execution_count": 549,
   "metadata": {},
   "outputs": [],
   "source": [
    "mycreate_submission(\n",
    "    ens_model, \n",
    "    tx_test, \n",
    "    ids_test, None, 'ens_andrei')"
   ]
  },
  {
   "cell_type": "markdown",
   "metadata": {},
   "source": [
    "---"
   ]
  },
  {
   "cell_type": "code",
   "execution_count": null,
   "metadata": {},
   "outputs": [],
   "source": [
    "def tune_lambda(y, x, grid, seed=42, history=True):\n",
    "#     w_init = np.zeros(x.shape[1])\n",
    "    res = {}\n",
    "    for lambda_ in grid:\n",
    "        np.random.seed(seed)\n",
    "        train_model = lambda y_, x_: make_predictor(reg_logistic_regression_sgd(\n",
    "            y_, x_, lambda_, np.zeros(x.shape[1]), 20, 2000, 0.1,\n",
    "        )[0])\n",
    "        res[lambda_] = validation.cross_validation(y, x, train_model, 5)[0].mean()\n",
    "        if history:\n",
    "            print(f\"{lambda_}: {res[lambda_]:.4f}\")\n",
    "    return max(res.items(), key=operator.itemgetter(1))\n",
    "\n",
    "tune_lambda(y_train, x_train_all, [1e-8, 1e-9, 1e-10, 1e-11])"
   ]
  },
  {
   "cell_type": "code",
   "execution_count": null,
   "metadata": {},
   "outputs": [],
   "source": []
  }
 ],
 "metadata": {
  "colab": {
   "collapsed_sections": [],
   "name": "HopefullyFinalSubmission.ipynb",
   "provenance": []
  },
  "kernelspec": {
   "display_name": "Python 3",
   "language": "python",
   "name": "python3"
  },
  "language_info": {
   "codemirror_mode": {
    "name": "ipython",
    "version": 3
   },
   "file_extension": ".py",
   "mimetype": "text/x-python",
   "name": "python",
   "nbconvert_exporter": "python",
   "pygments_lexer": "ipython3",
   "version": "3.8.5"
  }
 },
 "nbformat": 4,
 "nbformat_minor": 1
}

{
 "cells": [
  {
   "cell_type": "code",
   "execution_count": 1,
   "metadata": {
    "id": "Q7XhFKLT9Z3X"
   },
   "outputs": [],
   "source": [
    "import numpy as np\n",
    "\n",
    "import data_io\n",
    "import metrics\n",
    "import validation\n",
    "import implementations\n",
    "import data_preprocessing\n",
    "\n",
    "%load_ext autoreload\n",
    "%autoreload 2\n",
    "\n",
    "import matplotlib.pyplot as plt\n",
    "plt.rcParams['figure.dpi'] = 250\n",
    "import seaborn as sns\n",
    "sns.set(style='whitegrid')\n",
    "\n",
    "%matplotlib inline"
   ]
  },
  {
   "cell_type": "code",
   "execution_count": 2,
   "metadata": {},
   "outputs": [],
   "source": [
    "def get_predictor(w):\n",
    "    def foo(features):\n",
    "        return (features @ w > 0).astype(int)\n",
    "    return foo"
   ]
  },
  {
   "cell_type": "code",
   "execution_count": 12,
   "metadata": {},
   "outputs": [],
   "source": [
    "import operator\n",
    "\n",
    "def tune_lambda(y, x, grid, seed=42):\n",
    "    w_init = np.zeros(tx.shape[1])\n",
    "    res = {}\n",
    "    for lambda_ in grid:\n",
    "        np.random.seed(seed)\n",
    "        train_model = lambda y_, x_: get_predictor(implementations.reg_logistic_regression_sgd(\n",
    "            y_, x_, lambda_, w_init, 5, 1000, 0.5,\n",
    "        )[0])\n",
    "        res[lambda_] = validation.cross_validation(y, x, train_model, 5)[0].mean()\n",
    "        print(f\"{lambda_}: {res[lambda_]:.4f}\")\n",
    "    return max(res.items(), key=operator.itemgetter(1))[0]"
   ]
  },
  {
   "cell_type": "markdown",
   "metadata": {},
   "source": [
    "### Data"
   ]
  },
  {
   "cell_type": "code",
   "execution_count": 26,
   "metadata": {
    "id": "k9QxL8h891WE"
   },
   "outputs": [],
   "source": [
    "DATA_FILE_PREFIX = 'data/'\n",
    "y, x, ids, cols = data_io.load_csv_data(f'{DATA_FILE_PREFIX}train.csv')\n",
    "y = (y + 1) // 2\n",
    "\n",
    "# Make it easier to access columns by their name\n",
    "col_to_index_mapping = {col_name: index - 2 for index, col_name in enumerate(cols) if index >= 2}"
   ]
  },
  {
   "cell_type": "markdown",
   "metadata": {},
   "source": [
    "###### baseline"
   ]
  },
  {
   "cell_type": "code",
   "execution_count": 8,
   "metadata": {},
   "outputs": [],
   "source": [
    "def transformation_pipeline_base(x, col_to_index_mapping=col_to_index_mapping):\n",
    "    tx = np.copy(x) # Recommended to copy x so it doesn't change\n",
    "    tx[tx == -999.] = np.nan\n",
    "    tx = data_preprocessing.apply_transformation(\n",
    "        tx,\n",
    "        [col_to_index_mapping[key] for key in col_to_index_mapping if 'PRI_jet_num' not in key],\n",
    "        data_preprocessing.standardize_with_nans,\n",
    "    )\n",
    "    # standardize and normalize may change value of fields from default missing values, so it uses matrix calculated before applying transformations\n",
    "    tx = data_preprocessing.nullify_missing_values(tx, np.isnan(tx)) \n",
    "    # onehot for categorical and drop one level\n",
    "    tx = data_preprocessing.apply_transformation(tx, [col_to_index_mapping['PRI_jet_num']], data_preprocessing.one_hot) \n",
    "    tx = tx[:, :-1]\n",
    "    # add bias\n",
    "    tx = data_preprocessing.prepend_bias_column(tx)\n",
    "    return tx"
   ]
  },
  {
   "cell_type": "code",
   "execution_count": 9,
   "metadata": {},
   "outputs": [
    {
     "data": {
      "text/plain": [
       "((250000, 33), (250000,))"
      ]
     },
     "execution_count": 9,
     "metadata": {},
     "output_type": "execute_result"
    }
   ],
   "source": [
    "tx = transformation_pipeline_base(x)\n",
    "tx.shape, y.shape"
   ]
  },
  {
   "cell_type": "code",
   "execution_count": 11,
   "metadata": {},
   "outputs": [
    {
     "name": "stdout",
     "output_type": "stream",
     "text": [
      "------ 5-fold cross validation results ------\n",
      "    Accuracy: avg 0.75182, max 0.7547, min 0.74844, stddev 0.0024897\n",
      "    Fbeta score: avg 0.595, max 0.60451, min 0.58853, stddev 0.005581\n"
     ]
    }
   ],
   "source": [
    "# cross validation score\n",
    "np.random.seed(42)\n",
    "\n",
    "w_init = np.zeros(tx.shape[1])\n",
    "lambda_ = 1e-5\n",
    "train_model = lambda y, x: get_predictor(implementations.reg_logistic_regression_sgd(\n",
    "    y, x, lambda_, w_init, 5, 1000, 0.5,\n",
    ")[0])\n",
    "\n",
    "res = validation.cross_validation(y, tx, train_model, 5, verbose=True)"
   ]
  },
  {
   "cell_type": "code",
   "execution_count": 13,
   "metadata": {},
   "outputs": [
    {
     "name": "stdout",
     "output_type": "stream",
     "text": [
      "0.0: 0.7518\n",
      "1e-06: 0.7518\n",
      "1e-05: 0.7518\n",
      "0.0001: 0.7518\n",
      "0.001: 0.7508\n",
      "0.01: 0.7439\n",
      "0.1: 0.7260\n",
      "1.0: 0.7036\n"
     ]
    }
   ],
   "source": [
    "# find the best lambda\n",
    "best_lambda = tune_lambda(y, tx, np.concatenate([[0], np.logspace(-6, 0, 7)]))"
   ]
  },
  {
   "cell_type": "code",
   "execution_count": 14,
   "metadata": {},
   "outputs": [
    {
     "data": {
      "text/plain": [
       "0.0"
      ]
     },
     "execution_count": 14,
     "metadata": {},
     "output_type": "execute_result"
    }
   ],
   "source": [
    "best_lambda"
   ]
  },
  {
   "cell_type": "code",
   "execution_count": 15,
   "metadata": {
    "scrolled": true
   },
   "outputs": [],
   "source": [
    "# check convergence\n",
    "np.random.seed(42)\n",
    "\n",
    "w = np.random.randn(tx.shape[1]) * 0\n",
    "w, hist = implementations.reg_logistic_regression_sgd(y, tx, best_lambda, w, 5, 1000, 0.5, history=True)"
   ]
  },
  {
   "cell_type": "code",
   "execution_count": 16,
   "metadata": {},
   "outputs": [
    {
     "data": {
      "text/plain": [
       "(0.45, 0.7)"
      ]
     },
     "execution_count": 16,
     "metadata": {},
     "output_type": "execute_result"
    },
    {
     "data": {
      "image/png": "[encoded data removed]",
      "text/plain": [
       "<Figure size 432x288 with 1 Axes>"
      ]
     },
     "metadata": {
      "needs_background": "light"
     },
     "output_type": "display_data"
    }
   ],
   "source": [
    "plt.plot(hist)\n",
    "plt.ylim(0.45, 0.7)"
   ]
  },
  {
   "cell_type": "markdown",
   "metadata": {},
   "source": [
    "##### NA values: replace with median"
   ]
  },
  {
   "cell_type": "code",
   "execution_count": 17,
   "metadata": {},
   "outputs": [],
   "source": [
    "def transformation_pipeline_median(x, col_to_index_mapping=col_to_index_mapping):\n",
    "    tx = np.copy(x) # Recommended to copy x so it doesn't change\n",
    "    tx[tx == -999.] = np.nan\n",
    "    tx = data_preprocessing.apply_transformation(\n",
    "        tx,\n",
    "        [col_to_index_mapping[key] for key in col_to_index_mapping if 'PRI_jet_num' not in key],\n",
    "        data_preprocessing.standardize_with_nans,\n",
    "    )\n",
    "    # standardize and normalize may change value of fields from default missing values, so it uses matrix calculated before applying transformations\n",
    "    tx = data_preprocessing.median_missing_values(tx, np.isnan(tx)) \n",
    "    # onehot for categorical and drop one level\n",
    "    tx = data_preprocessing.apply_transformation(tx, [col_to_index_mapping['PRI_jet_num']], data_preprocessing.one_hot) \n",
    "    tx = tx[:, :-1]\n",
    "    # add bias\n",
    "    tx = data_preprocessing.prepend_bias_column(tx)\n",
    "    return tx"
   ]
  },
  {
   "cell_type": "code",
   "execution_count": 18,
   "metadata": {},
   "outputs": [],
   "source": [
    "tx = transformation_pipeline_median(x)"
   ]
  },
  {
   "cell_type": "code",
   "execution_count": 19,
   "metadata": {},
   "outputs": [
    {
     "name": "stdout",
     "output_type": "stream",
     "text": [
      "------ 5-fold cross validation results ------\n",
      "    Accuracy: avg 0.75216, max 0.75514, min 0.74856, stddev 0.0025507\n",
      "    Fbeta score: avg 0.5955, max 0.60422, min 0.58998, stddev 0.0050626\n"
     ]
    }
   ],
   "source": [
    "np.random.seed(42)\n",
    "\n",
    "w_init = np.zeros(tx.shape[1])\n",
    "lambda_ = 1e-5\n",
    "train_model = lambda y, x: get_predictor(implementations.reg_logistic_regression_sgd(\n",
    "    y, x, lambda_, w_init, 5, 1000, 0.5,\n",
    ")[0])\n",
    "\n",
    "res = validation.cross_validation(y, tx, train_model, 5, verbose=True)"
   ]
  },
  {
   "cell_type": "code",
   "execution_count": 20,
   "metadata": {},
   "outputs": [
    {
     "name": "stdout",
     "output_type": "stream",
     "text": [
      "0.0: 0.7521\n",
      "1e-06: 0.7521\n",
      "1e-05: 0.7521\n",
      "0.0001: 0.7520\n",
      "0.001: 0.7511\n",
      "0.01: 0.7435\n",
      "0.1: 0.7246\n",
      "1.0: 0.7029\n"
     ]
    }
   ],
   "source": [
    "best_lambda = tune_lambda(y, tx, np.concatenate([[0], np.logspace(-6, 0, 7)]))"
   ]
  },
  {
   "cell_type": "code",
   "execution_count": 21,
   "metadata": {},
   "outputs": [
    {
     "data": {
      "text/plain": [
       "0.0"
      ]
     },
     "execution_count": 21,
     "metadata": {},
     "output_type": "execute_result"
    }
   ],
   "source": [
    "best_lambda"
   ]
  },
  {
   "cell_type": "markdown",
   "metadata": {},
   "source": [
    "##### add new columns + nullify"
   ]
  },
  {
   "cell_type": "code",
   "execution_count": 22,
   "metadata": {},
   "outputs": [],
   "source": [
    "def transformation_pipeline_onehot(x, col_to_index_mapping=col_to_index_mapping):\n",
    "    tx = np.copy(x) # Recommended to copy x so it doesn't change\n",
    "    tx[tx == -999.] = np.nan\n",
    "    tx = data_preprocessing.apply_transformation(\n",
    "        tx,\n",
    "        [col_to_index_mapping[key] for key in col_to_index_mapping if 'PRI_jet_num' not in key],\n",
    "        data_preprocessing.standardize_with_nans,\n",
    "    )\n",
    "    # standardize and normalize may change value of fields from default missing values, so it uses matrix calculated before applying transformations\n",
    "    tx = data_preprocessing.onehot_missing_values(tx, np.isnan(tx)) \n",
    "    tx = data_preprocessing.nullify_missing_values(tx, np.isnan(tx))    \n",
    "    # onehot for categorical and drop one level\n",
    "    tx = data_preprocessing.apply_transformation(tx, [col_to_index_mapping['PRI_jet_num']], data_preprocessing.one_hot) \n",
    "    tx = tx[:, :-1]\n",
    "    # add bias\n",
    "    tx = data_preprocessing.prepend_bias_column(tx)\n",
    "    return tx"
   ]
  },
  {
   "cell_type": "code",
   "execution_count": 27,
   "metadata": {},
   "outputs": [],
   "source": [
    "tx = transformation_pipeline_onehot(x)"
   ]
  },
  {
   "cell_type": "code",
   "execution_count": 28,
   "metadata": {},
   "outputs": [
    {
     "name": "stdout",
     "output_type": "stream",
     "text": [
      "------ 5-fold cross validation results ------\n",
      "    Accuracy: avg 0.75195, max 0.75488, min 0.74938, stddev 0.0019377\n",
      "    Fbeta score: avg 0.59294, max 0.59868, min 0.5806, stddev 0.0063782\n"
     ]
    }
   ],
   "source": [
    "np.random.seed(42)\n",
    "\n",
    "w_init = np.zeros(tx.shape[1])\n",
    "lambda_ = 1e-5\n",
    "train_model = lambda y, x: get_predictor(implementations.reg_logistic_regression_sgd(\n",
    "    y, x, lambda_, w_init, 5, 1000, 0.5,\n",
    ")[0])\n",
    "\n",
    "res = validation.cross_validation(y, tx, train_model, 5, verbose=True)"
   ]
  },
  {
   "cell_type": "code",
   "execution_count": 29,
   "metadata": {},
   "outputs": [
    {
     "name": "stdout",
     "output_type": "stream",
     "text": [
      "0.0: 0.7519\n",
      "1e-06: 0.7520\n",
      "1e-05: 0.7520\n",
      "0.0001: 0.7519\n",
      "0.001: 0.7508\n",
      "0.01: 0.7427\n",
      "0.1: 0.7147\n",
      "1.0: 0.6814\n"
     ]
    }
   ],
   "source": [
    "best_lambda = tune_lambda(y, tx, np.concatenate([[0], np.logspace(-6, 0, 7)]))"
   ]
  },
  {
   "cell_type": "code",
   "execution_count": 30,
   "metadata": {},
   "outputs": [
    {
     "data": {
      "text/plain": [
       "1e-06"
      ]
     },
     "execution_count": 30,
     "metadata": {},
     "output_type": "execute_result"
    }
   ],
   "source": [
    "best_lambda"
   ]
  },
  {
   "cell_type": "markdown",
   "metadata": {},
   "source": [
    "### Degree 2\n",
    "##### nans: null"
   ]
  },
  {
   "cell_type": "code",
   "execution_count": 31,
   "metadata": {},
   "outputs": [],
   "source": [
    "def transformation_pipeline_degree_2(x, col_to_index_mapping=col_to_index_mapping):\n",
    "    tx = np.copy(x) # Recommended to copy x so it doesn't change\n",
    "    tx[tx == -999.] = np.nan\n",
    "    tx = data_preprocessing.apply_transformation(\n",
    "        tx,\n",
    "        [col_to_index_mapping[key] for key in col_to_index_mapping if 'PRI_jet_num' not in key],\n",
    "        data_preprocessing.standardize_with_nans,\n",
    "    )\n",
    "    # standardize and normalize may change value of fields from default missing values, so it uses matrix calculated before applying transformations\n",
    "    tx = data_preprocessing.nullify_missing_values(tx, np.isnan(tx))    \n",
    "    # onehot for categorical and drop one level\n",
    "    tx = data_preprocessing.apply_transformation(tx, [col_to_index_mapping['PRI_jet_num']], data_preprocessing.one_hot) \n",
    "    tx = tx[:, :-1]\n",
    "    # add squared features\n",
    "    tx = data_preprocessing.build_poly(\n",
    "        tx, \n",
    "        [col_to_index_mapping[key] for key in col_to_index_mapping if 'PRI_jet_num' not in key],\n",
    "        2\n",
    "    )\n",
    "    # add bias\n",
    "    tx = data_preprocessing.prepend_bias_column(tx)\n",
    "    return tx"
   ]
  },
  {
   "cell_type": "code",
   "execution_count": 32,
   "metadata": {},
   "outputs": [],
   "source": [
    "tx = transformation_pipeline_degree_2(x)"
   ]
  },
  {
   "cell_type": "code",
   "execution_count": 33,
   "metadata": {},
   "outputs": [
    {
     "name": "stderr",
     "output_type": "stream",
     "text": [
      "/home/mlproject1/implementations.py:205: RuntimeWarning: overflow encountered in exp\n",
      "  loss = np.log1p(np.exp(-t * (tx @ weights)))\n"
     ]
    },
    {
     "name": "stdout",
     "output_type": "stream",
     "text": [
      "------ 5-fold cross validation results ------\n",
      "    Accuracy: avg 0.78824, max 0.80426, min 0.77016, stddev 0.014433\n",
      "    Fbeta score: avg 0.68904, max 0.7041, min 0.65543, stddev 0.01733\n"
     ]
    }
   ],
   "source": [
    "np.random.seed(42)\n",
    "\n",
    "w_init = np.zeros(tx.shape[1])\n",
    "lambda_ = 1e-5\n",
    "train_model = lambda y, x: get_predictor(implementations.reg_logistic_regression_sgd(\n",
    "    y, x, lambda_, w_init, 5, 1000, 0.5,\n",
    ")[0])\n",
    "\n",
    "res = validation.cross_validation(y, tx, train_model, 5, verbose=True)"
   ]
  },
  {
   "cell_type": "code",
   "execution_count": 34,
   "metadata": {},
   "outputs": [
    {
     "name": "stdout",
     "output_type": "stream",
     "text": [
      "0.0: 0.7883\n",
      "1e-06: 0.7882\n",
      "1e-05: 0.7884\n",
      "0.0001: 0.7882\n",
      "0.001: 0.7859\n",
      "0.01: 0.7736\n",
      "0.1: 0.7087\n",
      "1.0: 0.3427\n"
     ]
    }
   ],
   "source": [
    "best_lambda = tune_lambda(y, tx, np.concatenate([[0], np.logspace(-6, 0, 7)]))"
   ]
  },
  {
   "cell_type": "code",
   "execution_count": 35,
   "metadata": {},
   "outputs": [
    {
     "data": {
      "text/plain": [
       "1e-05"
      ]
     },
     "execution_count": 35,
     "metadata": {},
     "output_type": "execute_result"
    }
   ],
   "source": [
    "best_lambda"
   ]
  },
  {
   "cell_type": "markdown",
   "metadata": {},
   "source": [
    "##### submit"
   ]
  },
  {
   "cell_type": "code",
   "execution_count": null,
   "metadata": {},
   "outputs": [],
   "source": [
    "w_init = np.zeros(tx.shape[1])\n",
    "lambda_ = 0.001\n",
    "train_model = lambda y, x: get_predictor(implementations.reg_logistic_regression_sgd(\n",
    "    y, x, lambda_, w_init, 5, 1000, 0.5, \n",
    ")[0])\n",
    "\n",
    "model = train_model(y, tx)"
   ]
  },
  {
   "cell_type": "code",
   "execution_count": null,
   "metadata": {},
   "outputs": [],
   "source": [
    "w, hist = implementations.reg_logistic_regression_sgd(\n",
    "    y, tx, 0.001, w_init, 20, 1000, 0.01, history=True,\n",
    ")"
   ]
  },
  {
   "cell_type": "code",
   "execution_count": null,
   "metadata": {},
   "outputs": [],
   "source": [
    "plt.plot(hist)"
   ]
  },
  {
   "cell_type": "code",
   "execution_count": null,
   "metadata": {},
   "outputs": [],
   "source": [
    "pred = model(tx)\n",
    "metrics.accuracy(y, pred)"
   ]
  },
  {
   "cell_type": "code",
   "execution_count": null,
   "metadata": {},
   "outputs": [],
   "source": [
    "#DATA_FILE_PREFIX = './/data/'\n",
    "DATA_FILE_PREFIX = 'data/'\n",
    "y_test, x_test, ids_test, cols = data_io.load_csv_data(f'{DATA_FILE_PREFIX}test.csv')\n",
    "y_test = (y_test + 1) // 2"
   ]
  },
  {
   "cell_type": "code",
   "execution_count": null,
   "metadata": {},
   "outputs": [],
   "source": [
    "tx_test = transformation_pipeline_degree_2(x_test)"
   ]
  },
  {
   "cell_type": "code",
   "execution_count": null,
   "metadata": {},
   "outputs": [],
   "source": [
    "predictions = model(tx_test)"
   ]
  },
  {
   "cell_type": "code",
   "execution_count": null,
   "metadata": {},
   "outputs": [],
   "source": [
    "y_test = predictions * 2 - 1"
   ]
  },
  {
   "cell_type": "code",
   "execution_count": null,
   "metadata": {},
   "outputs": [],
   "source": [
    "data_io.create_csv_submission(id_tests, y_test, 'data/v.csv')"
   ]
  },
  {
   "cell_type": "markdown",
   "metadata": {},
   "source": [
    "### Degree 2 + pairwise"
   ]
  },
  {
   "cell_type": "code",
   "execution_count": 36,
   "metadata": {},
   "outputs": [],
   "source": [
    "def transformation_pipeline_pairwise(x, col_to_index_mapping=col_to_index_mapping):\n",
    "    tx = np.copy(x) # Recommended to copy x so it doesn't change\n",
    "    tx[tx == -999.] = np.nan\n",
    "    tx = data_preprocessing.apply_transformation(\n",
    "        tx,\n",
    "        [col_to_index_mapping[key] for key in col_to_index_mapping if 'PRI_jet_num' not in key],\n",
    "        data_preprocessing.standardize_with_nans,\n",
    "    )\n",
    "    # standardize and normalize may change value of fields from default missing values, so it uses matrix calculated before applying transformations\n",
    "    tx = data_preprocessing.nullify_missing_values(tx, np.isnan(tx))    \n",
    "    # onehot for categorical and drop one level\n",
    "    tx = data_preprocessing.apply_transformation(tx, [col_to_index_mapping['PRI_jet_num']], data_preprocessing.one_hot) \n",
    "    tx = tx[:, :-1]\n",
    "    # add squared features\n",
    "    tx = data_preprocessing.build_poly(\n",
    "        tx, \n",
    "        [col_to_index_mapping[key] for key in col_to_index_mapping if 'PRI_jet_num' not in key],\n",
    "        2\n",
    "    )\n",
    "    # add pairwise multiplied features\n",
    "    tx = data_preprocessing.build_pairwise(\n",
    "        tx, \n",
    "        [col_to_index_mapping[key] for key in col_to_index_mapping if 'PRI_jet_num' not in key]\n",
    "    )\n",
    "    # add bias\n",
    "    tx = data_preprocessing.prepend_bias_column(tx)\n",
    "    return tx"
   ]
  },
  {
   "cell_type": "code",
   "execution_count": null,
   "metadata": {},
   "outputs": [],
   "source": [
    "tx = transformation_pipeline_pairwise(x)"
   ]
  },
  {
   "cell_type": "code",
   "execution_count": null,
   "metadata": {},
   "outputs": [],
   "source": [
    "np.random.seed(42)\n",
    "\n",
    "w_init = np.zeros(tx.shape[1])\n",
    "lambda_ = 1e-5\n",
    "train_model = lambda y, x: get_predictor(implementations.reg_logistic_regression_sgd(\n",
    "    y, x, lambda_, w_init, 5, 1000, 0.5,\n",
    ")[0])\n",
    "\n",
    "res = validation.cross_validation(y, tx, train_model, 5, verbose=True)"
   ]
  },
  {
   "cell_type": "code",
   "execution_count": null,
   "metadata": {},
   "outputs": [],
   "source": [
    "best_lambda = tune_lambda(y, tx, np.concatenate([[0], np.logspace(-6, 0, 7)]))"
   ]
  },
  {
   "cell_type": "code",
   "execution_count": null,
   "metadata": {},
   "outputs": [],
   "source": [
    "best_lambda"
   ]
  },
  {
   "cell_type": "code",
   "execution_count": null,
   "metadata": {},
   "outputs": [],
   "source": []
  }
 ],
 "metadata": {
  "colab": {
   "collapsed_sections": [],
   "name": "Untitled44.ipynb",
   "provenance": []
  },
  "kernelspec": {
   "display_name": "Python 3",
   "language": "python",
   "name": "python3"
  },
  "language_info": {
   "codemirror_mode": {
    "name": "ipython",
    "version": 3
   },
   "file_extension": ".py",
   "mimetype": "text/x-python",
   "name": "python",
   "nbconvert_exporter": "python",
   "pygments_lexer": "ipython3",
   "version": "3.6.9"
  }
 },
 "nbformat": 4,
 "nbformat_minor": 4
}

{
 "cells": [
  {
   "cell_type": "code",
   "execution_count": 62,
   "metadata": {
    "id": "Q7XhFKLT9Z3X"
   },
   "outputs": [
    {
     "name": "stdout",
     "output_type": "stream",
     "text": [
      "The autoreload extension is already loaded. To reload it, use:\n",
      "  %reload_ext autoreload\n"
     ]
    }
   ],
   "source": [
    "import numpy as np\n",
    "\n",
    "import data_io\n",
    "import metrics\n",
    "import validation\n",
    "import implementations\n",
    "import data_preprocessing\n",
    "\n",
    "%load_ext autoreload\n",
    "%autoreload 2\n",
    "\n",
    "import matplotlib.pyplot as plt\n",
    "plt.rcParams['figure.dpi'] = 250\n",
    "import seaborn as sns\n",
    "sns.set(style='whitegrid')\n",
    "\n",
    "%matplotlib inline"
   ]
  },
  {
   "cell_type": "code",
   "execution_count": 63,
   "metadata": {},
   "outputs": [],
   "source": [
    "def get_predictor(w):\n",
    "    def foo(features):\n",
    "        return (features @ w > 0).astype(int)\n",
    "    return foo"
   ]
  },
  {
   "cell_type": "code",
   "execution_count": 136,
   "metadata": {},
   "outputs": [],
   "source": [
    "import operator\n",
    "\n",
    "def tune_lambda(y, x, grid, seed=42):\n",
    "    w_init = np.zeros(tx.shape[1])\n",
    "    res = {}\n",
    "    for lambda_ in grid:\n",
    "        np.random.seed(seed)\n",
    "        train_model = lambda y_, x_: get_predictor(implementations.reg_logistic_regression_sgd(\n",
    "            y_, x_, lambda_, w_init, 5, 1000, 0.5,\n",
    "        )[0])\n",
    "        res[lambda_] = validation.cross_validation(y, x, train_model, 5)[0].mean()\n",
    "        print(f\"{lambda_}: {res[lambda_]:.4f}\")\n",
    "    return max(res.items(), key=operator.itemgetter(1))[0]"
   ]
  },
  {
   "cell_type": "markdown",
   "metadata": {},
   "source": [
    "### Data"
   ]
  },
  {
   "cell_type": "code",
   "execution_count": 65,
   "metadata": {
    "id": "k9QxL8h891WE"
   },
   "outputs": [],
   "source": [
    "DATA_FILE_PREFIX = 'data/'\n",
    "y, x, ids, cols = data_io.load_csv_data(f'{DATA_FILE_PREFIX}train.csv')\n",
    "y = (y + 1) // 2\n",
    "\n",
    "# Make it easier to access columns by their name\n",
    "col_to_index_mapping = {col_name: index - 2 for index, col_name in enumerate(cols) if index >= 2}"
   ]
  },
  {
   "cell_type": "markdown",
   "metadata": {},
   "source": [
    "###### baseline"
   ]
  },
  {
   "cell_type": "code",
   "execution_count": 80,
   "metadata": {},
   "outputs": [],
   "source": [
    "def transformation_pipeline_base(x, col_to_index_mapping=col_to_index_mapping):\n",
    "    tx = np.copy(x) # Recommended to copy x so it doesn't change\n",
    "    tx[tx == -999.] = np.nan\n",
    "    tx = data_preprocessing.apply_transformation(\n",
    "        tx,\n",
    "        [col_to_index_mapping[key] for key in col_to_index_mapping if 'PRI_jet_num' not in key],\n",
    "        data_preprocessing.standardize_with_nans,\n",
    "    )\n",
    "    # standardize and normalize may change value of fields from default missing values, so it uses matrix calculated before applying transformations\n",
    "    tx = data_preprocessing.nullify_missing_values(tx, np.isnan(tx)) \n",
    "    # onehot for categorical and drop one level\n",
    "    tx, col_to_index_mapping_upd = data_preprocessing.one_hot_transformation(tx, 'PRI_jet_num', col_to_index_mapping)\n",
    "    tx = tx[:, :-1]\n",
    "    # add bias\n",
    "    tx = data_preprocessing.prepend_bias_column(tx)\n",
    "    return tx"
   ]
  },
  {
   "cell_type": "code",
   "execution_count": 81,
   "metadata": {},
   "outputs": [
    {
     "data": {
      "text/plain": [
       "((250000, 33), (250000,))"
      ]
     },
     "execution_count": 81,
     "metadata": {},
     "output_type": "execute_result"
    }
   ],
   "source": [
    "tx = transformation_pipeline_base(x)\n",
    "tx.shape, y.shape"
   ]
  },
  {
   "cell_type": "code",
   "execution_count": 82,
   "metadata": {},
   "outputs": [
    {
     "name": "stdout",
     "output_type": "stream",
     "text": [
      "------ 5-fold cross validation results ------\n",
      "    Accuracy: avg 0.75182, max 0.7547, min 0.74844, stddev 0.0024897\n",
      "    Fbeta score: avg 0.595, max 0.60451, min 0.58853, stddev 0.005581\n"
     ]
    }
   ],
   "source": [
    "# cross validation score\n",
    "np.random.seed(42)\n",
    "\n",
    "w_init = np.zeros(tx.shape[1])\n",
    "lambda_ = 1e-5\n",
    "train_model = lambda y, x: get_predictor(implementations.reg_logistic_regression_sgd(\n",
    "    y, x, lambda_, w_init, 5, 1000, 0.5,\n",
    ")[0])\n",
    "\n",
    "res = validation.cross_validation(y, tx, train_model, 5, verbose=True)"
   ]
  },
  {
   "cell_type": "code",
   "execution_count": 83,
   "metadata": {},
   "outputs": [
    {
     "name": "stdout",
     "output_type": "stream",
     "text": [
      "0.0: 0.7518\n",
      "1e-06: 0.7518\n",
      "1e-05: 0.7518\n",
      "0.0001: 0.7518\n",
      "0.001: 0.7508\n",
      "0.01: 0.7439\n",
      "0.1: 0.7260\n",
      "1.0: 0.7036\n"
     ]
    }
   ],
   "source": [
    "# find the best lambda\n",
    "best_lambda = tune_lambda(y, tx, np.concatenate([[0], np.logspace(-6, 0, 7)]))"
   ]
  },
  {
   "cell_type": "code",
   "execution_count": 84,
   "metadata": {},
   "outputs": [
    {
     "data": {
      "text/plain": [
       "0.0"
      ]
     },
     "execution_count": 84,
     "metadata": {},
     "output_type": "execute_result"
    }
   ],
   "source": [
    "best_lambda"
   ]
  },
  {
   "cell_type": "code",
   "execution_count": 85,
   "metadata": {
    "scrolled": true
   },
   "outputs": [],
   "source": [
    "# check convergence\n",
    "np.random.seed(42)\n",
    "\n",
    "w = np.random.randn(tx.shape[1]) * 0\n",
    "w, hist = implementations.reg_logistic_regression_sgd(y, tx, best_lambda, w, 5, 1000, 0.5, history=True)"
   ]
  },
  {
   "cell_type": "code",
   "execution_count": 86,
   "metadata": {},
   "outputs": [
    {
     "data": {
      "text/plain": [
       "(0.45, 0.7)"
      ]
     },
     "execution_count": 86,
     "metadata": {},
     "output_type": "execute_result"
    },
    {
     "data": {
      "image/png": "[encoded data removed]",
      "text/plain": [
       "<Figure size 432x288 with 1 Axes>"
      ]
     },
     "metadata": {
      "needs_background": "light"
     },
     "output_type": "display_data"
    }
   ],
   "source": [
    "plt.plot(hist)\n",
    "plt.ylim(0.45, 0.7)"
   ]
  },
  {
   "cell_type": "markdown",
   "metadata": {},
   "source": [
    "##### NA values: replace with median"
   ]
  },
  {
   "cell_type": "code",
   "execution_count": 87,
   "metadata": {},
   "outputs": [],
   "source": [
    "def transformation_pipeline_median(x, col_to_index_mapping=col_to_index_mapping):\n",
    "    tx = np.copy(x) # Recommended to copy x so it doesn't change\n",
    "    tx[tx == -999.] = np.nan\n",
    "    tx = data_preprocessing.apply_transformation(\n",
    "        tx,\n",
    "        [col_to_index_mapping[key] for key in col_to_index_mapping if 'PRI_jet_num' not in key],\n",
    "        data_preprocessing.standardize_with_nans,\n",
    "    )\n",
    "    # standardize and normalize may change value of fields from default missing values, so it uses matrix calculated before applying transformations\n",
    "    tx = data_preprocessing.median_missing_values(tx, np.isnan(tx)) \n",
    "    # onehot for categorical and drop one level\n",
    "    tx, col_to_index_mapping_upd = data_preprocessing.one_hot_transformation(tx, 'PRI_jet_num', col_to_index_mapping)\n",
    "    tx = tx[:, :-1]\n",
    "    # add bias\n",
    "    tx = data_preprocessing.prepend_bias_column(tx)\n",
    "    return tx"
   ]
  },
  {
   "cell_type": "code",
   "execution_count": 88,
   "metadata": {},
   "outputs": [],
   "source": [
    "tx = transformation_pipeline_median(x)"
   ]
  },
  {
   "cell_type": "code",
   "execution_count": 89,
   "metadata": {},
   "outputs": [
    {
     "name": "stdout",
     "output_type": "stream",
     "text": [
      "------ 5-fold cross validation results ------\n",
      "    Accuracy: avg 0.75216, max 0.75514, min 0.74856, stddev 0.0025507\n",
      "    Fbeta score: avg 0.5955, max 0.60422, min 0.58998, stddev 0.0050626\n"
     ]
    }
   ],
   "source": [
    "np.random.seed(42)\n",
    "\n",
    "w_init = np.zeros(tx.shape[1])\n",
    "lambda_ = 1e-5\n",
    "train_model = lambda y, x: get_predictor(implementations.reg_logistic_regression_sgd(\n",
    "    y, x, lambda_, w_init, 5, 1000, 0.5,\n",
    ")[0])\n",
    "\n",
    "res = validation.cross_validation(y, tx, train_model, 5, verbose=True)"
   ]
  },
  {
   "cell_type": "code",
   "execution_count": 20,
   "metadata": {},
   "outputs": [
    {
     "name": "stdout",
     "output_type": "stream",
     "text": [
      "0.0: 0.7521\n",
      "1e-06: 0.7521\n",
      "1e-05: 0.7521\n",
      "0.0001: 0.7520\n",
      "0.001: 0.7511\n",
      "0.01: 0.7435\n",
      "0.1: 0.7246\n",
      "1.0: 0.7029\n"
     ]
    }
   ],
   "source": [
    "best_lambda = tune_lambda(y, tx, np.concatenate([[0], np.logspace(-6, 0, 7)]))"
   ]
  },
  {
   "cell_type": "code",
   "execution_count": 21,
   "metadata": {},
   "outputs": [
    {
     "data": {
      "text/plain": [
       "0.0"
      ]
     },
     "execution_count": 21,
     "metadata": {},
     "output_type": "execute_result"
    }
   ],
   "source": [
    "best_lambda"
   ]
  },
  {
   "cell_type": "markdown",
   "metadata": {},
   "source": [
    "##### add new columns + nullify"
   ]
  },
  {
   "cell_type": "code",
   "execution_count": 113,
   "metadata": {},
   "outputs": [],
   "source": [
    "def transformation_pipeline_onehot(x, col_to_index_mapping=col_to_index_mapping, test=False):\n",
    "    tx = np.copy(x) # Recommended to copy x so it doesn't change\n",
    "    tx[tx == -999.] = np.nan\n",
    "    tx = data_preprocessing.apply_transformation(\n",
    "        tx,\n",
    "        [col_to_index_mapping[key] for key in col_to_index_mapping if 'PRI_jet_num' not in key],\n",
    "        data_preprocessing.standardize_with_nans,\n",
    "    )\n",
    "    # standardize and normalize may change value of fields from default missing values, so it uses matrix calculated before applying transformations\n",
    "    # onehot for categorical and drop one level\n",
    "    tx, col_to_index_mapping_upd = data_preprocessing.one_hot_transformation(tx, 'PRI_jet_num', col_to_index_mapping)\n",
    "    tx, col_to_index_mapping_upd = data_preprocessing.onehot_missing_values(tx, np.isnan(tx), col_to_index_mapping_upd)\n",
    "    tx = data_preprocessing.nullify_missing_values(tx, np.isnan(tx))    \n",
    "    tx = tx[:, :-1]\n",
    "    # add bias\n",
    "    tx = data_preprocessing.prepend_bias_column(tx)\n",
    "    return tx, col_to_index_mapping_upd"
   ]
  },
  {
   "cell_type": "code",
   "execution_count": 114,
   "metadata": {},
   "outputs": [],
   "source": [
    "tx, col_to_index_mapping_upd = transformation_pipeline_onehot(x)"
   ]
  },
  {
   "cell_type": "code",
   "execution_count": 115,
   "metadata": {},
   "outputs": [
    {
     "name": "stdout",
     "output_type": "stream",
     "text": [
      "------ 5-fold cross validation results ------\n",
      "    Accuracy: avg 0.75182, max 0.75476, min 0.74912, stddev 0.0019348\n",
      "    Fbeta score: avg 0.59238, max 0.59718, min 0.5804, stddev 0.0061037\n"
     ]
    }
   ],
   "source": [
    "np.random.seed(42)\n",
    "\n",
    "w_init = np.zeros(tx.shape[1])\n",
    "lambda_ = 1e-5\n",
    "train_model = lambda y, x: get_predictor(implementations.reg_logistic_regression_sgd(\n",
    "    y, x, lambda_, w_init, 5, 1000, 0.5,\n",
    ")[0])\n",
    "\n",
    "res = validation.cross_validation(y, tx, train_model, 5, verbose=True)"
   ]
  },
  {
   "cell_type": "code",
   "execution_count": 116,
   "metadata": {},
   "outputs": [
    {
     "name": "stdout",
     "output_type": "stream",
     "text": [
      "0.0: 0.7518\n",
      "1e-06: 0.7519\n",
      "1e-05: 0.7519\n",
      "0.0001: 0.7519\n",
      "0.001: 0.7508\n",
      "0.01: 0.7433\n",
      "0.1: 0.7158\n",
      "1.0: 0.6767\n"
     ]
    }
   ],
   "source": [
    "best_lambda = tune_lambda(y, tx, np.concatenate([[0], np.logspace(-6, 0, 7)]))"
   ]
  },
  {
   "cell_type": "code",
   "execution_count": 117,
   "metadata": {},
   "outputs": [
    {
     "data": {
      "text/plain": [
       "1e-06"
      ]
     },
     "execution_count": 117,
     "metadata": {},
     "output_type": "execute_result"
    }
   ],
   "source": [
    "best_lambda"
   ]
  },
  {
   "cell_type": "markdown",
   "metadata": {},
   "source": [
    "### Degree 2\n",
    "##### nans: null"
   ]
  },
  {
   "cell_type": "code",
   "execution_count": 171,
   "metadata": {},
   "outputs": [],
   "source": [
    "def transformation_pipeline_degree_2(x, col_to_index_mapping=col_to_index_mapping):\n",
    "    tx = np.copy(x) # Recommended to copy x so it doesn't change\n",
    "    tx[tx == -999.] = np.nan\n",
    "    tx = data_preprocessing.apply_transformation(\n",
    "        tx,\n",
    "        [col_to_index_mapping[key] for key in col_to_index_mapping if 'PRI_jet_num' not in key],\n",
    "        data_preprocessing.standardize_with_nans,\n",
    "    )\n",
    "    # standardize and normalize may change value of fields from default missing values, so it uses matrix calculated before applying transformations\n",
    "    tx = data_preprocessing.nullify_missing_values(tx, np.isnan(tx))    \n",
    "    # onehot for categorical and drop one level\n",
    "    tx, col_to_index_mapping_upd = data_preprocessing.one_hot_transformation(tx, 'PRI_jet_num', col_to_index_mapping)\n",
    "    tx = tx[:, :-1]\n",
    "    # add squared features\n",
    "    tx = data_preprocessing.build_poly(\n",
    "        tx, \n",
    "        [col_to_index_mapping_upd[key] for key in col_to_index_mapping_upd if 'PRI_jet_num' not in key],\n",
    "        2\n",
    "    )\n",
    "    # add bias\n",
    "    tx = data_preprocessing.prepend_bias_column(tx)\n",
    "    return tx"
   ]
  },
  {
   "cell_type": "code",
   "execution_count": 172,
   "metadata": {},
   "outputs": [],
   "source": [
    "tx = transformation_pipeline_degree_2(x)"
   ]
  },
  {
   "cell_type": "code",
   "execution_count": 173,
   "metadata": {},
   "outputs": [
    {
     "name": "stdout",
     "output_type": "stream",
     "text": [
      "------ 5-fold cross validation results ------\n",
      "    Accuracy: avg 0.79968, max 0.80314, min 0.79532, stddev 0.0025036\n",
      "    Fbeta score: avg 0.68527, max 0.69139, min 0.6782, stddev 0.004564\n"
     ]
    }
   ],
   "source": [
    "np.random.seed(42)\n",
    "\n",
    "w_init = np.zeros(tx.shape[1])\n",
    "lambda_ = 1e-5\n",
    "train_model = lambda y, x: get_predictor(implementations.reg_logistic_regression_sgd(\n",
    "    y, x, lambda_, w_init, 20, 1000, 0.01,\n",
    ")[0])\n",
    "\n",
    "res = validation.cross_validation(y, tx, train_model, 5, verbose=True)"
   ]
  },
  {
   "cell_type": "code",
   "execution_count": 174,
   "metadata": {},
   "outputs": [
    {
     "name": "stdout",
     "output_type": "stream",
     "text": [
      "0.0: 0.7997\n",
      "1e-06: 0.8018\n",
      "1e-05: 0.8021\n",
      "0.0001: 0.8023\n",
      "0.001: 0.8021\n",
      "0.01: 0.7962\n",
      "0.1: 0.7712\n",
      "1.0: 0.7126\n"
     ]
    }
   ],
   "source": [
    "def tune_lambda(y, x, grid, seed=42):\n",
    "    w_init = np.zeros(tx.shape[1])\n",
    "    res = {}\n",
    "    for lambda_ in grid:\n",
    "        np.random.seed(seed)\n",
    "        train_model = lambda y_, x_: get_predictor(implementations.reg_logistic_regression_sgd(\n",
    "            y_, x_, lambda_, w_init, 20, 1000, 0.01,\n",
    "        )[0])\n",
    "        res[lambda_] = validation.cross_validation(y, x, train_model, 5)[0].mean()\n",
    "        print(f\"{lambda_}: {res[lambda_]:.4f}\")\n",
    "    return max(res.items(), key=operator.itemgetter(1))[0]\n",
    "\n",
    "best_lambda = tune_lambda(y, tx, np.concatenate([[0], np.logspace(-6, 0, 7)]))"
   ]
  },
  {
   "cell_type": "code",
   "execution_count": 175,
   "metadata": {},
   "outputs": [
    {
     "data": {
      "text/plain": [
       "0.0001"
      ]
     },
     "execution_count": 175,
     "metadata": {},
     "output_type": "execute_result"
    }
   ],
   "source": [
    "best_lambda"
   ]
  },
  {
   "cell_type": "markdown",
   "metadata": {},
   "source": [
    "##### submit"
   ]
  },
  {
   "cell_type": "code",
   "execution_count": 176,
   "metadata": {},
   "outputs": [],
   "source": [
    "w_init = np.zeros(tx.shape[1])\n",
    "lambda_ = 0.0001\n",
    "train_model = lambda y, x: get_predictor(implementations.reg_logistic_regression_sgd(\n",
    "    y, x, lambda_, w_init, 20, 1000, 0.1,\n",
    ")[0])\n",
    "\n",
    "model = train_model(y, tx)"
   ]
  },
  {
   "cell_type": "code",
   "execution_count": 177,
   "metadata": {},
   "outputs": [],
   "source": [
    "w, hist = implementations.reg_logistic_regression_sgd(\n",
    "    y, tx, lambda_, w_init, 20, 1000, 0.1, history=True,\n",
    ")"
   ]
  },
  {
   "cell_type": "code",
   "execution_count": 178,
   "metadata": {},
   "outputs": [
    {
     "data": {
      "text/plain": [
       "[<matplotlib.lines.Line2D at 0x7fd904721c90>]"
      ]
     },
     "execution_count": 178,
     "metadata": {},
     "output_type": "execute_result"
    },
    {
     "data": {
      "image/png": "[encoded data removed]",
      "text/plain": [
       "<Figure size 432x288 with 1 Axes>"
      ]
     },
     "metadata": {
      "needs_background": "light"
     },
     "output_type": "display_data"
    }
   ],
   "source": [
    "plt.plot(hist)"
   ]
  },
  {
   "cell_type": "code",
   "execution_count": 179,
   "metadata": {},
   "outputs": [
    {
     "data": {
      "text/plain": [
       "0.801908"
      ]
     },
     "execution_count": 179,
     "metadata": {},
     "output_type": "execute_result"
    }
   ],
   "source": [
    "pred = model(tx)\n",
    "metrics.accuracy(y, pred)"
   ]
  },
  {
   "cell_type": "code",
   "execution_count": 180,
   "metadata": {},
   "outputs": [],
   "source": [
    "#DATA_FILE_PREFIX = './/data/'\n",
    "DATA_FILE_PREFIX = 'data/'\n",
    "y_test, x_test, ids_test, cols = data_io.load_csv_data(f'{DATA_FILE_PREFIX}test.csv')\n",
    "y_test = (y_test + 1) // 2"
   ]
  },
  {
   "cell_type": "code",
   "execution_count": 181,
   "metadata": {},
   "outputs": [],
   "source": [
    "tx_test = transformation_pipeline_degree_2(x_test)"
   ]
  },
  {
   "cell_type": "code",
   "execution_count": 182,
   "metadata": {},
   "outputs": [],
   "source": [
    "predictions = model(tx_test)"
   ]
  },
  {
   "cell_type": "code",
   "execution_count": 183,
   "metadata": {},
   "outputs": [],
   "source": [
    "y_test = predictions * 2 - 1"
   ]
  },
  {
   "cell_type": "code",
   "execution_count": 184,
   "metadata": {},
   "outputs": [],
   "source": [
    "data_io.create_csv_submission(ids_test, y_test, 'data/degree2.csv')"
   ]
  },
  {
   "cell_type": "markdown",
   "metadata": {},
   "source": [
    "### Degree 2 + pairwise"
   ]
  },
  {
   "cell_type": "code",
   "execution_count": 203,
   "metadata": {},
   "outputs": [],
   "source": [
    "def transformation_pipeline_pairwise(x, col_to_index_mapping=col_to_index_mapping):\n",
    "    tx = np.copy(x) # Recommended to copy x so it doesn't change\n",
    "    tx[tx == -999.] = np.nan\n",
    "    tx = data_preprocessing.apply_transformation(\n",
    "        tx,\n",
    "        [col_to_index_mapping[key] for key in col_to_index_mapping if 'PRI_jet_num' not in key],\n",
    "        data_preprocessing.standardize_with_nans,\n",
    "    )\n",
    "    # standardize and normalize may change value of fields from default missing values, so it uses matrix calculated before applying transformations\n",
    "    tx = data_preprocessing.median_missing_values(tx, np.isnan(tx))    \n",
    "    # onehot for categorical and drop one level\n",
    "    tx, col_to_index_mapping_upd = data_preprocessing.one_hot_transformation(tx, 'PRI_jet_num', col_to_index_mapping)\n",
    "    tx = tx[:, :-1]\n",
    "    # add squared features\n",
    "    tx = data_preprocessing.build_poly(\n",
    "        tx, \n",
    "        [col_to_index_mapping[key] for key in col_to_index_mapping if 'PRI_jet_num' not in key],\n",
    "        2\n",
    "    )\n",
    "    # add pairwise multiplied features\n",
    "    tx = data_preprocessing.build_pairwise(\n",
    "        tx, \n",
    "        [col_to_index_mapping[key] for key in col_to_index_mapping]\n",
    "    )\n",
    "    # add bias\n",
    "    tx = data_preprocessing.prepend_bias_column(tx)\n",
    "    return tx"
   ]
  },
  {
   "cell_type": "code",
   "execution_count": 204,
   "metadata": {},
   "outputs": [],
   "source": [
    "tx = transformation_pipeline_pairwise(x)"
   ]
  },
  {
   "cell_type": "code",
   "execution_count": 205,
   "metadata": {},
   "outputs": [
    {
     "name": "stdout",
     "output_type": "stream",
     "text": [
      "------ 5-fold cross validation results ------\n",
      "    Accuracy: avg 0.81934, max 0.8214, min 0.8161, stddev 0.0019999\n",
      "    Fbeta score: avg 0.7245, max 0.73005, min 0.71722, stddev 0.0048735\n"
     ]
    }
   ],
   "source": [
    "np.random.seed(42)\n",
    "\n",
    "w_init = np.zeros(tx.shape[1])\n",
    "lambda_ = 1e-5\n",
    "train_model = lambda y, x: get_predictor(implementations.reg_logistic_regression_sgd(\n",
    "    y, x, lambda_, w_init, 20, 1000, 0.01,\n",
    ")[0])\n",
    "\n",
    "res = validation.cross_validation(y, tx, train_model, 5, verbose=True)"
   ]
  },
  {
   "cell_type": "code",
   "execution_count": 206,
   "metadata": {},
   "outputs": [
    {
     "name": "stdout",
     "output_type": "stream",
     "text": [
      "0.0: 0.8193\n",
      "1e-06: 0.8203\n",
      "1e-05: 0.8217\n",
      "0.0001: 0.8219\n",
      "0.001: 0.8220\n",
      "0.01: 0.8175\n"
     ]
    }
   ],
   "source": [
    "best_lambda = tune_lambda(y, tx, np.concatenate([[0], np.logspace(-6, -2, 5)]))"
   ]
  },
  {
   "cell_type": "code",
   "execution_count": 192,
   "metadata": {},
   "outputs": [
    {
     "name": "stdout",
     "output_type": "stream",
     "text": [
      "0.0: 0.8189\n",
      "1e-06: 0.8215\n",
      "1e-05: 0.8207\n",
      "0.0001: 0.8214\n",
      "0.001: 0.8216\n",
      "0.01: 0.8175\n",
      "0.1: 0.7959\n"
     ]
    }
   ],
   "source": [
    "best_lambda = tune_lambda(y, tx, np.concatenate([[0], np.logspace(-6, -1, 6)]))"
   ]
  },
  {
   "cell_type": "code",
   "execution_count": 207,
   "metadata": {},
   "outputs": [
    {
     "data": {
      "text/plain": [
       "0.001"
      ]
     },
     "execution_count": 207,
     "metadata": {},
     "output_type": "execute_result"
    }
   ],
   "source": [
    "best_lambda"
   ]
  },
  {
   "cell_type": "markdown",
   "metadata": {},
   "source": [
    "##### submit"
   ]
  },
  {
   "cell_type": "code",
   "execution_count": 208,
   "metadata": {},
   "outputs": [],
   "source": [
    "w_init = np.zeros(tx.shape[1])\n",
    "lambda_ = 0.001\n",
    "train_model = lambda y, x: get_predictor(implementations.reg_logistic_regression_sgd(\n",
    "    y, x, lambda_, w_init, 20, 1000, 0.1,\n",
    ")[0])\n",
    "\n",
    "model = train_model(y, tx)"
   ]
  },
  {
   "cell_type": "code",
   "execution_count": 209,
   "metadata": {},
   "outputs": [],
   "source": [
    "w, hist = implementations.reg_logistic_regression_sgd(\n",
    "    y, tx, lambda_, w_init, 20, 1000, 0.1, history=True,\n",
    ")"
   ]
  },
  {
   "cell_type": "code",
   "execution_count": 210,
   "metadata": {},
   "outputs": [
    {
     "data": {
      "text/plain": [
       "[<matplotlib.lines.Line2D at 0x7fd904d64650>]"
      ]
     },
     "execution_count": 210,
     "metadata": {},
     "output_type": "execute_result"
    },
    {
     "data": {
      "image/png": "[encoded data removed]",
      "text/plain": [
       "<Figure size 432x288 with 1 Axes>"
      ]
     },
     "metadata": {
      "needs_background": "light"
     },
     "output_type": "display_data"
    }
   ],
   "source": [
    "plt.plot(hist)"
   ]
  },
  {
   "cell_type": "code",
   "execution_count": 211,
   "metadata": {},
   "outputs": [
    {
     "data": {
      "text/plain": [
       "0.821088"
      ]
     },
     "execution_count": 211,
     "metadata": {},
     "output_type": "execute_result"
    }
   ],
   "source": [
    "pred = model(tx)\n",
    "metrics.accuracy(y, pred)"
   ]
  },
  {
   "cell_type": "code",
   "execution_count": 212,
   "metadata": {},
   "outputs": [],
   "source": [
    "#DATA_FILE_PREFIX = './/data/'\n",
    "DATA_FILE_PREFIX = 'data/'\n",
    "y_test, x_test, ids_test, cols = data_io.load_csv_data(f'{DATA_FILE_PREFIX}test.csv')\n",
    "y_test = (y_test + 1) // 2"
   ]
  },
  {
   "cell_type": "code",
   "execution_count": 213,
   "metadata": {},
   "outputs": [],
   "source": [
    "tx_test = transformation_pipeline_pairwise(x_test)"
   ]
  },
  {
   "cell_type": "code",
   "execution_count": 214,
   "metadata": {},
   "outputs": [],
   "source": [
    "predictions = model(tx_test)"
   ]
  },
  {
   "cell_type": "code",
   "execution_count": 215,
   "metadata": {},
   "outputs": [],
   "source": [
    "y_test = predictions * 2 - 1"
   ]
  },
  {
   "cell_type": "code",
   "execution_count": 216,
   "metadata": {},
   "outputs": [],
   "source": [
    "data_io.create_csv_submission(ids_test, y_test, 'data/pairwise_median.csv')"
   ]
  },
  {
   "cell_type": "code",
   "execution_count": null,
   "metadata": {},
   "outputs": [],
   "source": []
  }
 ],
 "metadata": {
  "colab": {
   "collapsed_sections": [],
   "name": "Untitled44.ipynb",
   "provenance": []
  },
  "kernelspec": {
   "display_name": "Python 3",
   "language": "python",
   "name": "python3"
  },
  "language_info": {
   "codemirror_mode": {
    "name": "ipython",
    "version": 3
   },
   "file_extension": ".py",
   "mimetype": "text/x-python",
   "name": "python",
   "nbconvert_exporter": "python",
   "pygments_lexer": "ipython3",
   "version": "3.7.5"
  }
 },
 "nbformat": 4,
 "nbformat_minor": 4
}
